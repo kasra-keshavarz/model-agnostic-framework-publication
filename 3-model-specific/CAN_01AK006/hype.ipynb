{
 "cells": [
  {
   "cell_type": "code",
   "execution_count": 1,
   "id": "2f1dc9e1-38b2-49a9-b875-b822fb8742c2",
   "metadata": {},
   "outputs": [],
   "source": [
    "import hypeflow as hf"
   ]
  },
  {
   "cell_type": "code",
   "execution_count": 2,
   "id": "b7944eaf-4c59-41dd-8c7d-c302d1707747",
   "metadata": {},
   "outputs": [],
   "source": [
    "easymore_output = \"/home/kasra.keshavarz1/github-repos/model-agnostic-framework-publication/5-outputs/CAN_01AK006/forcings/easymore-outputs/\"\n",
    "output_path = \"/home/kasra.keshavarz1/github-repos/model-agnostic-framework-publication/5-outputs/CAN_01AK006/models/hype/\"\n",
    "timeshift = -6\n",
    "\n",
    "forcing_units = {\n",
    "    \"temperature\": {\n",
    "        \"in_varname\": \"CaSR_v3.1_P_TT_09975\",\n",
    "        \"in_units\": \"celsius\",\n",
    "        \"out_units\": \"celsius\"\n",
    "    },\n",
    "    \"precipitation\": {\n",
    "        \"in_varname\": \"CaSR_v3.1_A_PR0_SFC\",\n",
    "        \"in_units\": \"m/hr\",\n",
    "        \"out_units\": \"mm/day\"\n",
    "    }\n",
    "}\n",
    "\n",
    "geofabric_mapping = {\n",
    "    \"basinID\": {\n",
    "        \"in_varname\": \"COMID\"\n",
    "    },\n",
    "    \"nextDownID\": {\n",
    "        \"in_varname\": \"NextDownID\"\n",
    "    },\n",
    "    \"area\": {\n",
    "        \"in_varname\": \"unitarea\",\n",
    "        \"in_units\": \"km^2\",\n",
    "        \"out_units\": \"m^2\"\n",
    "    },\n",
    "    \"rivlen\": {\n",
    "        \"in_varname\": \"new_len_km\",\n",
    "        \"in_units\": \"km\",\n",
    "        \"out_units\": \"m\"\n",
    "    }\n",
    "}\n",
    "\n",
    "gistool_outputs = {\n",
    "    \"soil\": \"/home/kasra.keshavarz1/github-repos/model-agnostic-framework-publication/5-outputs/CAN_01AK006/attributes/soil/CAN_01AK006_stats_soil_classes.csv\",\n",
    "    \"landcover\": \"/home/kasra.keshavarz1/github-repos/model-agnostic-framework-publication/5-outputs/CAN_01AK006/attributes/landcover/MCD12Q1.061/CAN_01AK006_stats_MCD12Q1.061_2020.csv\",\n",
    "    \"elevation\": \"/home/kasra.keshavarz1/github-repos/model-agnostic-framework-publication/5-outputs/CAN_01AK006/attributes/elevation/CAN_01AK006_stats_elv.csv\"\n",
    "}\n",
    "\n",
    "subbasins_shapefile = \"/home/kasra.keshavarz1/github-repos/model-agnostic-framework-publication/5-outputs/CAN_01AK006/shapefiles/CAN_01AK006_distributed_basin.shp\"\n",
    "rivers_shapefile = \"/home/kasra.keshavarz1/github-repos/model-agnostic-framework-publication/5-outputs/CAN_01AK006/shapefiles/CAN_01AK006_distributed_river.shp\"\n",
    "frac_threshold = 0.01\n",
    "spinup_days = 274"
   ]
  },
  {
   "cell_type": "code",
   "execution_count": 3,
   "id": "80e263a6-262d-4745-a777-024b77ae9fc9",
   "metadata": {},
   "outputs": [
    {
     "name": "stdout",
     "output_type": "stream",
     "text": [
      "Merging easymore outputs to one NetCDF file \n",
      "\n",
      "|████████████████████████████████████████| 20/20 [100%] in 33.9s (0.58/s)       \n",
      "Get average daily values for HYPE \n",
      "\n",
      "EASYMORE version 2.0.1 is initiated.\n",
      "EASYMORE detects that the input datafarame is pandas dataframe\n",
      "EASYMORE detects that index is pandas datatime\n",
      "EASYMORE version 2.0.1 is initiated.\n",
      "EASYMORE detects that the input datafarame is pandas dataframe\n",
      "EASYMORE detects that index is pandas datatime\n",
      "EASYMORE version 2.0.1 is initiated.\n",
      "EASYMORE detects that the input datafarame is pandas dataframe\n",
      "EASYMORE detects that index is pandas datatime\n",
      "EASYMORE version 2.0.1 is initiated.\n",
      "EASYMORE detects that the input datafarame is pandas dataframe\n",
      "EASYMORE detects that index is pandas datatime\n",
      "Merging easymore outputs to one NetCDF file \n",
      "\n",
      "|████████████████████████████████████████| 20/20 [100%] in 41.2s (0.47/s)       \n",
      "Get average daily values for HYPE \n",
      "\n",
      "EASYMORE version 2.0.1 is initiated.\n",
      "EASYMORE detects that the input datafarame is pandas dataframe\n",
      "EASYMORE detects that index is pandas datatime\n",
      "EASYMORE version 2.0.1 is initiated.\n",
      "EASYMORE detects that the input datafarame is pandas dataframe\n",
      "EASYMORE detects that index is pandas datatime\n",
      "EASYMORE version 2.0.1 is initiated.\n",
      "EASYMORE detects that the input datafarame is pandas dataframe\n",
      "EASYMORE detects that index is pandas datatime\n",
      "EASYMORE version 2.0.1 is initiated.\n",
      "EASYMORE detects that the input datafarame is pandas dataframe\n",
      "EASYMORE detects that index is pandas datatime\n"
     ]
    },
    {
     "name": "stderr",
     "output_type": "stream",
     "text": [
      "/home/kasra.keshavarz1/virtual-envs/maf-paper/lib/python3.11/site-packages/hypeflow/hypeflow.py:336: UserWarning: Geometry is in a geographic CRS. Results from 'centroid' are likely incorrect. Use 'GeoSeries.to_crs()' to re-project geometries to a projected CRS before this operation.\n",
      "\n",
      "  cat['latitude'] = cat.centroid.y\n",
      "/home/kasra.keshavarz1/virtual-envs/maf-paper/lib/python3.11/site-packages/hypeflow/hypeflow.py:337: UserWarning: Geometry is in a geographic CRS. Results from 'centroid' are likely incorrect. Use 'GeoSeries.to_crs()' to re-project geometries to a projected CRS before this operation.\n",
      "\n",
      "  cat['longitude'] = cat.centroid.x\n"
     ]
    }
   ],
   "source": [
    "hf.write_hype_forcing(easymore_output, timeshift, forcing_units, geofabric_mapping, output_path)\n",
    "hf.write_hype_forcing(easymore_output, timeshift, forcing_units, geofabric_mapping, output_path)\n",
    "hf.write_hype_geo_files(gistool_outputs, subbasins_shapefile, rivers_shapefile, frac_threshold, geofabric_mapping, output_path)\n",
    "hf.write_hype_par_file(output_path)\n",
    "hf.write_hype_info_filedir_files(output_path, spinup_days)"
   ]
  }
 ],
 "metadata": {
  "kernelspec": {
   "display_name": "maf-paper",
   "language": "python",
   "name": "maf-paper"
  },
  "language_info": {
   "codemirror_mode": {
    "name": "ipython",
    "version": 3
   },
   "file_extension": ".py",
   "mimetype": "text/x-python",
   "name": "python",
   "nbconvert_exporter": "python",
   "pygments_lexer": "ipython3",
   "version": "3.11.7"
  }
 },
 "nbformat": 4,
 "nbformat_minor": 5
}
