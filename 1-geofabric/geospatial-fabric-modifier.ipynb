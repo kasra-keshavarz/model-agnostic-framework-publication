{
 "cells": [
  {
   "cell_type": "markdown",
   "id": "24f1fa9e-f533-4565-9404-dbc52b596d20",
   "metadata": {},
   "source": [
    "# Geospatial fabric preparation"
   ]
  },
  {
   "cell_type": "markdown",
   "id": "fcbf4bf9-9b9f-46f1-b276-a85359f528c4",
   "metadata": {},
   "source": [
    "In this Notebook, we process the CAMELS-SPAT geospatial fabrics of the \"headwater\" type catchments. This script is heavily based on `HydrAnT` Python package which focuses on correcting geospatial fabrics to be ready for futher hydrological modelling applications."
   ]
  },
  {
   "cell_type": "code",
   "execution_count": null,
   "id": "fb9becb7-ddaa-4c5f-ac6e-8ed546f2c646",
   "metadata": {},
   "outputs": [],
   "source": [
    "# import necessary libraries\n",
    "# built-in libraries\n",
    "import os\n",
    "import argparse\n",
    "\n",
    "# third-party libraries\n",
    "import geopandas as gpd"
   ]
  },
  {
   "cell_type": "code",
   "execution_count": null,
   "id": "c13fbb94-064d-4a69-950d-441e2bc2a594",
   "metadata": {},
   "outputs": [],
   "source": [
    "# MODIFY THE PATH ACCORDINGLY\n",
    "repo_path = '/work/comphyd_lab/data/_to-be-moved/camels-spat-upload/shapefiles/headwater/shapes-distributed/'"
   ]
  },
  {
   "cell_type": "code",
   "execution_count": null,
   "id": "47d35b94-0c56-40bb-b89f-40569da8f961",
   "metadata": {},
   "outputs": [],
   "source": [
    "# Parse command-line arguments\n",
    "parser = argparse.ArgumentParser(description=\"Process geospatial fabric data.\")\n",
    "parser.add_argument('--fabric_code', type=str, required=True, help=\"Code of the basin to be processed\")\n",
    "parser.add_argument('--output_root_path', type=str, required=False, default=os.path.join(os.getcwd(), '..', '5-outputs', 'headwater', 'shapefiles', 'shapes-distributed'), help=\"Root output directory for processed files\")\n",
    "args = parser.parse_args()\n",
    "\n",
    "# Code of the basin to be processed\n",
    "fabric_code = args.fabric_code\n",
    "\n",
    "# Output path for the processed files\n",
    "output_root_path = args.output_root_path\n",
    "output_path = os.path.join(output_root_path, fabric_code)"
   ]
  },
  {
   "cell_type": "code",
   "execution_count": null,
   "id": "9d41cc0c-9f4a-44a6-9108-cbb9b1a7c74b",
   "metadata": {},
   "outputs": [],
   "source": [
    "# Reading files\n",
    "riv = gpd.read_file(os.path.join(repo_path, fabric_code, f'{fabric_code}_distributed_river.shp'))\n",
    "cat = gpd.read_file(os.path.join(repo_path, fabric_code, f'{fabric_code}_distributed_basin.shp'))"
   ]
  },
  {
   "cell_type": "code",
   "execution_count": null,
   "id": "e88a61c9-7fdc-467a-af29-98568906d284",
   "metadata": {},
   "outputs": [],
   "source": [
    "# columns for further manipulation\n",
    "riv_cols = set(riv.columns) - set(['COMID', 'geometry'])\n",
    "\n",
    "# assign the corresponding COMID value\n",
    "if not riv.loc[0, 'COMID']:\n",
    "    riv.loc[0, 'COMID'] = cat.loc[0, 'COMID']\n",
    "\n",
    "# assign other values to zero\n",
    "for col in riv_cols:\n",
    "    riv.loc[0, col] = 0\n",
    "\n",
    "# assign `order` to 1\n",
    "riv.loc[0, 'order'] = 1\n",
    "\n",
    "# assign the geometry to a point\n",
    "if riv.loc[0, 'geometry'] is None:\n",
    "    riv.loc[0, 'geometry'] = gpd.points_from_xy([0], [0])[0]"
   ]
  },
  {
   "cell_type": "code",
   "execution_count": null,
   "id": "15700b84-f6fc-48a9-b4a7-59db943e0510",
   "metadata": {},
   "outputs": [],
   "source": [
    "# saving both files\n",
    "# first creating directory based on the subbasin fabric code\n",
    "os.makedirs(output_path, exist_ok=True)\n",
    "\n",
    "# saving both files\n",
    "riv.to_file(os.path.join(output_path, f'{fabric_code}_distributed_river.shp'), index=False)\n",
    "cat.to_file(os.path.join(output_path, f'{fabric_code}_distributed_basin.shp'), index=False)"
   ]
  }
 ],
 "metadata": {
  "kernelspec": {
   "display_name": "meshflow",
   "language": "python",
   "name": "meshflow"
  },
  "language_info": {
   "codemirror_mode": {
    "name": "ipython",
    "version": 3
   },
   "file_extension": ".py",
   "mimetype": "text/x-python",
   "name": "python",
   "nbconvert_exporter": "python",
   "pygments_lexer": "ipython3",
   "version": "3.11.7"
  }
 },
 "nbformat": 4,
 "nbformat_minor": 5
}
